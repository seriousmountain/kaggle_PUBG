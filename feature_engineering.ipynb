{
 "cells": [
  {
   "cell_type": "code",
   "execution_count": 1,
   "metadata": {},
   "outputs": [],
   "source": [
    "import numpy as np\n",
    "import pandas as pd\n",
    "import matplotlib.pyplot as plt\n",
    "import seaborn as sns \n",
    "import warnings\n",
    "warnings.filterwarnings(\"ignore\")"
   ]
  },
  {
   "cell_type": "code",
   "execution_count": 32,
   "metadata": {},
   "outputs": [],
   "source": [
    "dtypes = {\n",
    "        'Id'                : 'object',\n",
    "        'groupId'           : 'object',\n",
    "        'matchId'           : 'object',   \n",
    "        'killPlace'         : 'int8',  \n",
    "        'kills'             : 'int8',    \n",
    "        'killStreaks'       : 'int8',    \n",
    "        'longestKill'       : 'float16',    \n",
    "        'winPlacePerc'      : 'float32',\n",
    "        'weaponsAcquired'   : 'float32',\n",
    "        'walkDistance'      : 'float32'\n",
    "}\n",
    "columns = ['Id', 'groupId', 'matchId','killPlace','walkDistance','kills','killStreaks','longestKill','winPlacePerc', 'weaponsAcquired']"
   ]
  },
  {
   "cell_type": "code",
   "execution_count": 33,
   "metadata": {},
   "outputs": [],
   "source": [
    "#train = pd.read_csv('./preprocessed_1.csv', dtype=dtypes, usecols=columns)\n",
    "train = pd.read_csv('./preprocessed_1.csv', usecols=columns, dtype=dtypes)"
   ]
  },
  {
   "cell_type": "markdown",
   "metadata": {},
   "source": [
    "### PUBG Feature engineering"
   ]
  },
  {
   "cell_type": "markdown",
   "metadata": {},
   "source": [
    "#### Added features for machine learing:\n",
    "1. Kills per walk distance\n",
    "2. Bossts per walk distance"
   ]
  },
  {
   "cell_type": "code",
   "execution_count": 34,
   "metadata": {},
   "outputs": [],
   "source": [
    "# Sampling training data for debugging (500.000 rows)\n",
    "sample = 500000\n",
    "df_sample = train.sample(sample)"
   ]
  },
  {
   "cell_type": "code",
   "execution_count": 35,
   "metadata": {},
   "outputs": [
    {
     "name": "stdout",
     "output_type": "stream",
     "text": [
      "<class 'pandas.core.frame.DataFrame'>\n",
      "Int64Index: 500000 entries, 1111824 to 2513453\n",
      "Data columns (total 10 columns):\n",
      "Id                 500000 non-null object\n",
      "groupId            500000 non-null object\n",
      "matchId            500000 non-null object\n",
      "killPlace          500000 non-null int8\n",
      "kills              500000 non-null int8\n",
      "killStreaks        500000 non-null int8\n",
      "longestKill        500000 non-null float16\n",
      "walkDistance       500000 non-null float32\n",
      "weaponsAcquired    500000 non-null float32\n",
      "winPlacePerc       500000 non-null float32\n",
      "dtypes: float16(1), float32(3), int8(3), object(3)\n",
      "memory usage: 23.4+ MB\n"
     ]
    }
   ],
   "source": [
    "df_sample.info()"
   ]
  },
  {
   "cell_type": "code",
   "execution_count": null,
   "metadata": {},
   "outputs": [],
   "source": []
  }
 ],
 "metadata": {
  "kernelspec": {
   "display_name": "Python 3",
   "language": "python",
   "name": "python3"
  },
  "language_info": {
   "codemirror_mode": {
    "name": "ipython",
    "version": 3
   },
   "file_extension": ".py",
   "mimetype": "text/x-python",
   "name": "python",
   "nbconvert_exporter": "python",
   "pygments_lexer": "ipython3",
   "version": "3.6.4rc1"
  }
 },
 "nbformat": 4,
 "nbformat_minor": 2
}
